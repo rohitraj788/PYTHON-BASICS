{
  "nbformat": 4,
  "nbformat_minor": 0,
  "metadata": {
    "colab": {
      "provenance": []
    },
    "kernelspec": {
      "name": "python3",
      "display_name": "Python 3"
    },
    "language_info": {
      "name": "python"
    }
  },
  "cells": [
    {
      "cell_type": "markdown",
      "source": [
        "1. What is Python, and why is it popular?\n",
        "Python is a high-level, interpreted programming language known for its easy-to-read syntax and vast library support.\n",
        "Popularity Reasons:\n",
        "\n",
        "- Simple syntax (close to English)\n",
        "\n",
        "- Extensive libraries and frameworks\n",
        "\n",
        "- Versatile (web, data science, automation, etc.)\n",
        "\n",
        "- Strong community support"
      ],
      "metadata": {
        "id": "Gyi75stEGAdT"
      }
    },
    {
      "cell_type": "markdown",
      "source": [
        "2. What is an interpreter in Python?\n",
        "\n",
        "- An interpreter is a program that reads and executes Python code line by line, converting it into machine code at runtime.\n",
        "\n"
      ],
      "metadata": {
        "id": "pzV1AuF5GLap"
      }
    },
    {
      "cell_type": "markdown",
      "source": [
        "3. What are pre-defined keywords in Python?\n",
        "\n",
        "- Keywords are reserved words that have special meaning in Python, like if, else, class, return, etc. They cannot be used as identifiers (like variable names)."
      ],
      "metadata": {
        "id": "fBe5OJ85GX8I"
      }
    },
    {
      "cell_type": "markdown",
      "source": [
        "4. Can keywords be used as variable names?\n",
        "\n",
        "- No, keywords cannot be used as variable names because they are reserved for Python's syntax and functionality.\n",
        "\n"
      ],
      "metadata": {
        "id": "BYueOj2vGipY"
      }
    },
    {
      "cell_type": "markdown",
      "source": [
        "5. What is mutability in Python?\n",
        "\n",
        "- Mutability refers to whether an object's state or contents can be changed after it's created.\n",
        "\n",
        "- Mutable: Can be changed (e.g., lists, dictionaries)\n",
        "\n",
        "- Immutable: Cannot be changed (e.g., strings, tuples)\n",
        "\n"
      ],
      "metadata": {
        "id": "nJI6fj9kGyu7"
      }
    },
    {
      "cell_type": "markdown",
      "source": [
        "6. Why are lists mutable, but tuples are immutable?\n",
        "\n",
        "- Lists are designed for dynamic collections, so they allow modifications.\n",
        "\n",
        "- Tuples are meant for fixed data, so they are kept immutable to ensure data integrity and allow hashing"
      ],
      "metadata": {
        "id": "icPT_spRHOS2"
      }
    },
    {
      "cell_type": "markdown",
      "source": [
        "7. What is the difference between == and is operators in Python?\n",
        "\n",
        "- == checks value equality (whether the values are the same).\n",
        "\n",
        "- is checks identity (whether the two variables point to the same memory location)."
      ],
      "metadata": {
        "id": "dRGDzEQSHdUv"
      }
    },
    {
      "cell_type": "markdown",
      "source": [
        "8. What are logical operators in Python?\n",
        "\n",
        "- Logical operators are used to combine conditional statements:\n",
        "\n",
        "- and: True if both conditions are true\n",
        "\n",
        "- or: True if at least one condition is true\n",
        "\n",
        "- not: Reverses the condition's result\n",
        "\n"
      ],
      "metadata": {
        "id": "E2Ho5e44HvDJ"
      }
    },
    {
      "cell_type": "markdown",
      "source": [
        "9. What is type casting in Python?\n",
        "\n",
        "- Type casting is converting one data type to another, like converting an int to a float, or str to int."
      ],
      "metadata": {
        "id": "UTaq_QkzH6JV"
      }
    },
    {
      "cell_type": "markdown",
      "source": [
        "10. What is the difference between implicit and explicit type casting?\n",
        "\n",
        "- Implicit: Done automatically by Python (e.g., int to float during operations)\n",
        "\n",
        "- Explicit: Manually done using functions (e.g., int(\"5\"))"
      ],
      "metadata": {
        "id": "MkoIKez7H_NC"
      }
    },
    {
      "cell_type": "markdown",
      "source": [
        "11. What is the purpose of conditional statements in Python?\n",
        "\n",
        "- They are used to execute different blocks of code based on conditions, allowing decision-making in programs (if, elif, else)."
      ],
      "metadata": {
        "id": "aX3OwUAMImwr"
      }
    },
    {
      "cell_type": "markdown",
      "source": [
        "\n",
        "12. How does the elif statement work?\n",
        "\n",
        "- elif (short for \"else if\") checks another condition if the previous if condition was false. It prevents the need for multiple nested if statements."
      ],
      "metadata": {
        "id": "waSX-65lIxM4"
      }
    },
    {
      "cell_type": "markdown",
      "source": [
        "13. What is the difference between for and while loops?\n",
        "\n",
        "- for loop: Iterates over a sequence (like a list, range).\n",
        "\n",
        "- while loop: Repeats as long as a condition is true.\n",
        "\n"
      ],
      "metadata": {
        "id": "vrAljG4cJBOs"
      }
    },
    {
      "cell_type": "markdown",
      "source": [
        "14. Describe a scenario where a while loop is more suitable than a for loop\n",
        "\n",
        "- When the number of iterations is not known beforehand, like reading user input until they type \"exit\".\n",
        "\n"
      ],
      "metadata": {
        "id": "mq_BiMvzJXme"
      }
    },
    {
      "cell_type": "markdown",
      "source": [
        "Practical Questions"
      ],
      "metadata": {
        "id": "t9fcXutMJgZJ"
      }
    },
    {
      "cell_type": "markdown",
      "source": [
        "1. Print \"Hello, World!\""
      ],
      "metadata": {
        "id": "68sY2khFQMa0"
      }
    },
    {
      "cell_type": "code",
      "source": [
        "print(\"Hello, World!\")\n"
      ],
      "metadata": {
        "colab": {
          "base_uri": "https://localhost:8080/"
        },
        "id": "ZsJxp9elR3gU",
        "outputId": "93cbb259-34a2-4a77-baa1-08e84b1cde37"
      },
      "execution_count": 2,
      "outputs": [
        {
          "output_type": "stream",
          "name": "stdout",
          "text": [
            "Hello, World!\n"
          ]
        }
      ]
    },
    {
      "cell_type": "markdown",
      "source": [
        "2. Display your name and age\n",
        "\n"
      ],
      "metadata": {
        "id": "DLpyX8dZQcEh"
      }
    },
    {
      "cell_type": "code",
      "source": [
        "name = \"Rohitraj\"\n",
        "age = 21\n",
        "print(\"Name:\", name)\n",
        "print(\"Age:\", age)\n"
      ],
      "metadata": {
        "colab": {
          "base_uri": "https://localhost:8080/"
        },
        "id": "TnD7mQA3Q3P6",
        "outputId": "a3d5e41d-b871-4c02-8a17-d606cb78cc5d"
      },
      "execution_count": 1,
      "outputs": [
        {
          "output_type": "stream",
          "name": "stdout",
          "text": [
            "Name: Rohitraj\n",
            "Age: 21\n"
          ]
        }
      ]
    },
    {
      "cell_type": "markdown",
      "source": [
        "3. Print all pre-defined keywords in Python"
      ],
      "metadata": {
        "id": "DTpbLlVjR9T1"
      }
    },
    {
      "cell_type": "code",
      "source": [
        "import keyword\n",
        "print(\"Python Keywords:\")\n",
        "print(keyword.kwlist)\n"
      ],
      "metadata": {
        "colab": {
          "base_uri": "https://localhost:8080/"
        },
        "id": "1_vrXMZuSD6b",
        "outputId": "ec1a62a1-2875-4756-b64d-ee71b3378346"
      },
      "execution_count": 3,
      "outputs": [
        {
          "output_type": "stream",
          "name": "stdout",
          "text": [
            "Python Keywords:\n",
            "['False', 'None', 'True', 'and', 'as', 'assert', 'async', 'await', 'break', 'class', 'continue', 'def', 'del', 'elif', 'else', 'except', 'finally', 'for', 'from', 'global', 'if', 'import', 'in', 'is', 'lambda', 'nonlocal', 'not', 'or', 'pass', 'raise', 'return', 'try', 'while', 'with', 'yield']\n"
          ]
        }
      ]
    },
    {
      "cell_type": "markdown",
      "source": [
        "4. Check if a word is a Python keyword"
      ],
      "metadata": {
        "id": "bchDarw9SNkA"
      }
    },
    {
      "cell_type": "code",
      "source": [
        "import keyword\n",
        "word = input(\"Enter a word: \")\n",
        "if keyword.iskeyword(word):\n",
        "    print(f\"'{word}' is a Python keyword.\")\n",
        "else:\n",
        "    print(f\"'{word}' is not a Python keyword.\")\n"
      ],
      "metadata": {
        "colab": {
          "base_uri": "https://localhost:8080/"
        },
        "id": "LHctouLhSSD0",
        "outputId": "b7eb45c9-a0a8-4db6-c868-ab5dee35f2f1"
      },
      "execution_count": 5,
      "outputs": [
        {
          "output_type": "stream",
          "name": "stdout",
          "text": [
            "Enter a word: def\n",
            "'def' is a Python keyword.\n"
          ]
        }
      ]
    },
    {
      "cell_type": "markdown",
      "source": [
        "5. Create a list and tuple in Python, and demonstrate how attempting to change an element works differently\n",
        "for each."
      ],
      "metadata": {
        "id": "m5kwdkYOTL7i"
      }
    },
    {
      "cell_type": "code",
      "source": [
        "# Creating a list\n",
        "my_list = [1, 2, 3]\n",
        "print(\"Original list:\", my_list)\n",
        "\n",
        "# Modifying an element in the list\n",
        "my_list[0] = 100\n",
        "print(\"Modified list:\", my_list)\n",
        "\n",
        "# Creating a tuple\n",
        "my_tuple = (1, 2, 3)\n",
        "print(\"Original tuple:\", my_tuple)\n",
        "\n",
        "# Attempting to modify an element in the tuple\n",
        "try:\n",
        "    my_tuple[0] = 100\n",
        "except TypeError as e:\n",
        "    print(\"Error when modifying tuple:\", e)\n",
        "\n"
      ],
      "metadata": {
        "colab": {
          "base_uri": "https://localhost:8080/"
        },
        "id": "9QRLtJ7QTi9x",
        "outputId": "61f10829-125b-4266-ab10-e7fcf70e6fc2"
      },
      "execution_count": 7,
      "outputs": [
        {
          "output_type": "stream",
          "name": "stdout",
          "text": [
            "Original list: [1, 2, 3]\n",
            "Modified list: [100, 2, 3]\n",
            "Original tuple: (1, 2, 3)\n",
            "Error when modifying tuple: 'tuple' object does not support item assignment\n"
          ]
        }
      ]
    },
    {
      "cell_type": "markdown",
      "source": [
        "Summary:\n",
        " - Lists can be modified using index assignment (my_list[0] = value).\n",
        "\n",
        "- Tuples cannot be modified; attempting to do so raises a TypeError."
      ],
      "metadata": {
        "id": "GkauJTY3dJ88"
      }
    },
    {
      "cell_type": "markdown",
      "source": [
        "6. Write a function to demonstrate the behavior of mutable and immutable arguments."
      ],
      "metadata": {
        "id": "zBJI0D_iUQ8j"
      }
    },
    {
      "cell_type": "code",
      "source": [
        "def modify_arguments(a_number, a_list):\n",
        "    print(\"\\nInside function (before modification):\")\n",
        "    print(\"a_number:\", a_number)\n",
        "    print(\"a_list:\", a_list)\n",
        "\n",
        "    a_number += 10           # This won't affect the original number (immutable)\n",
        "    a_list.append(100)       # This will affect the original list (mutable)\n",
        "\n",
        "    print(\"\\nInside function (after modification):\")\n",
        "    print(\"a_number:\", a_number)\n",
        "    print(\"a_list:\", a_list)\n",
        "\n",
        "# Immutable argument\n",
        "num = 5\n",
        "\n",
        "# Mutable argument\n",
        "lst = [1, 2, 3]\n",
        "\n",
        "print(\"Before function call:\")\n",
        "print(\"num:\", num)\n",
        "print(\"lst:\", lst)\n",
        "\n",
        "modify_arguments(num, lst)\n",
        "\n",
        "print(\"\\nAfter function call:\")\n",
        "print(\"num:\", num)   # Remains unchanged\n",
        "print(\"lst:\", lst)"
      ],
      "metadata": {
        "colab": {
          "base_uri": "https://localhost:8080/"
        },
        "id": "ADWJ5r9TUjnH",
        "outputId": "0b49ad6b-cc83-4825-dfb1-d87922391c6d"
      },
      "execution_count": 9,
      "outputs": [
        {
          "output_type": "stream",
          "name": "stdout",
          "text": [
            "Before function call:\n",
            "num: 5\n",
            "lst: [1, 2, 3]\n",
            "\n",
            "Inside function (before modification):\n",
            "a_number: 5\n",
            "a_list: [1, 2, 3]\n",
            "\n",
            "Inside function (after modification):\n",
            "a_number: 15\n",
            "a_list: [1, 2, 3, 100]\n",
            "\n",
            "After function call:\n",
            "num: 5\n",
            "lst: [1, 2, 3, 100]\n"
          ]
        }
      ]
    },
    {
      "cell_type": "markdown",
      "source": [
        "Explanation:\n",
        "- num is an immutable integer: changes inside the function don't reflect outside.\n",
        "\n",
        "- lst is a mutable list: changes inside the function do affect the original list."
      ],
      "metadata": {
        "id": "u48qVPlwc7y8"
      }
    },
    {
      "cell_type": "markdown",
      "source": [
        "7. Write a program that performs basic arithmetic operations on two user-input numbers."
      ],
      "metadata": {
        "id": "xWU2_IX7Vj9d"
      }
    },
    {
      "cell_type": "code",
      "source": [
        "# Get input from user\n",
        "num1 = float(input(\"Enter first number: \"))\n",
        "num2 = float(input(\"Enter second number: \"))\n",
        "\n",
        "# Perform arithmetic operations\n",
        "addition = num1 + num2\n",
        "subtraction = num1 - num2\n",
        "multiplication = num1 * num2\n",
        "\n",
        "# Division with zero check\n",
        "if num2 != 0:\n",
        "    division = num1 / num2\n",
        "else:\n",
        "    division = \"Undefined (cannot divide by zero)\"\n",
        "\n",
        "# Display results\n",
        "print(\"\\n--- Arithmetic Operations ---\")\n",
        "print(\"Addition:\", addition)\n",
        "print(\"Subtraction:\", subtraction)\n",
        "print(\"Multiplication:\", multiplication)\n",
        "print(\"Division:\", division)\n"
      ],
      "metadata": {
        "colab": {
          "base_uri": "https://localhost:8080/"
        },
        "id": "emZ-pQPZWFW1",
        "outputId": "8acc4692-7e2a-4bc7-de8a-5724acd8b25c"
      },
      "execution_count": 10,
      "outputs": [
        {
          "output_type": "stream",
          "name": "stdout",
          "text": [
            "Enter first number: 10\n",
            "Enter second number: 5\n",
            "\n",
            "--- Arithmetic Operations ---\n",
            "Addition: 15.0\n",
            "Subtraction: 5.0\n",
            "Multiplication: 50.0\n",
            "Division: 2.0\n"
          ]
        }
      ]
    },
    {
      "cell_type": "markdown",
      "source": [
        "8. Write a program to demonstrate the use of logical operators."
      ],
      "metadata": {
        "id": "blNFzpBvWand"
      }
    },
    {
      "cell_type": "code",
      "source": [
        "# Get two boolean values from the user (as 'True' or 'False')\n",
        "a = input(\"Enter first boolean value (True/False): \").strip().capitalize()\n",
        "b = input(\"Enter second boolean value (True/False): \").strip().capitalize()\n",
        "\n",
        "# Convert string inputs to actual boolean values\n",
        "a = True if a == 'True' else False\n",
        "b = True if b == 'True' else False\n",
        "\n",
        "# Demonstrating logical operators\n",
        "print(\"\\n--- Logical Operations ---\")\n",
        "print(\"a AND b:\", a and b)\n",
        "print(\"a OR b :\", a or b)\n",
        "print(\"NOT a  :\", not a)\n",
        "print(\"NOT b  :\", not b)\n"
      ],
      "metadata": {
        "colab": {
          "base_uri": "https://localhost:8080/"
        },
        "id": "M7EBpQbrWoCy",
        "outputId": "b1858e7d-e768-4c74-fb8c-3248fa589ebc"
      },
      "execution_count": 11,
      "outputs": [
        {
          "output_type": "stream",
          "name": "stdout",
          "text": [
            "Enter first boolean value (True/False): Enter first boolean value (True/False): True Enter second boolean value (True/False): False  --- Logical Operations --- a AND b: False a OR b : True NOT a  : False NOT b  : True\n",
            "Enter second boolean value (True/False): Enter first boolean value (True/False): True Enter second boolean value (True/False): False  --- Logical Operations --- a AND b: False a OR b : True NOT a  : False NOT b  : True\n",
            "\n",
            "--- Logical Operations ---\n",
            "a AND b: False\n",
            "a OR b : False\n",
            "NOT a  : True\n",
            "NOT b  : True\n"
          ]
        }
      ]
    },
    {
      "cell_type": "markdown",
      "source": [
        "Explanation:\n",
        "- and returns True only if both operands are True.\n",
        "\n",
        "- or returns True if at least one operand is True.\n",
        "\n",
        "- not negates the boolean value."
      ],
      "metadata": {
        "id": "IGQ91DVlcmQp"
      }
    },
    {
      "cell_type": "markdown",
      "source": [
        "9. Write a Python program to convert user input from string to integer, float, and boolean types"
      ],
      "metadata": {
        "id": "hHhPE0QaXFqo"
      }
    },
    {
      "cell_type": "code",
      "source": [
        "# Get input from user\n",
        "user_input = input(\"Enter a value: \")\n",
        "\n",
        "# String (default)\n",
        "as_string = user_input\n",
        "\n",
        "# Try converting to integer\n",
        "try:\n",
        "    as_int = int(user_input)\n",
        "except ValueError:\n",
        "    as_int = \"Invalid integer\"\n",
        "\n",
        "# Try converting to float\n",
        "try:\n",
        "    as_float = float(user_input)\n",
        "except ValueError:\n",
        "    as_float = \"Invalid float\"\n",
        "\n",
        "# Convert to boolean\n",
        "# Any non-empty string except \"False\", \"false\", \"0\", or \"\" is treated as True\n",
        "as_bool = user_input.strip().lower() not in [\"false\", \"0\", \"\"]\n",
        "\n",
        "# Display results\n",
        "print(\"\\n--- Type Conversions ---\")\n",
        "print(\"As String:\", as_string)\n",
        "print(\"As Integer:\", as_int)\n",
        "print(\"As Float:\", as_float)\n",
        "print(\"As Boolean:\", as_bool)\n"
      ],
      "metadata": {
        "colab": {
          "base_uri": "https://localhost:8080/"
        },
        "id": "aRnhXOnmXTiI",
        "outputId": "f0dbb28a-cbee-45d6-c274-bd5e4aa23b96"
      },
      "execution_count": 12,
      "outputs": [
        {
          "output_type": "stream",
          "name": "stdout",
          "text": [
            "Enter a value:  42\n",
            "\n",
            "--- Type Conversions ---\n",
            "As String:  42\n",
            "As Integer: 42\n",
            "As Float: 42.0\n",
            "As Boolean: True\n"
          ]
        }
      ]
    },
    {
      "cell_type": "markdown",
      "source": [
        "Notes:\n",
        "- If the input is not a valid number, the program handles conversion errors gracefully.\n",
        "\n",
        "- Boolean conversion uses custom logic to treat common \"false\"-like strings as False."
      ],
      "metadata": {
        "id": "gc1aJIImcVQm"
      }
    },
    {
      "cell_type": "markdown",
      "source": [
        "10. Write code to demonstrate type casting with list elements."
      ],
      "metadata": {
        "id": "e1ZVQw1bXkUo"
      }
    },
    {
      "cell_type": "code",
      "source": [
        "# Original list of strings (as if entered by user)\n",
        "str_list = ['10', '20', '30.5', '40', '50.75']\n",
        "\n",
        "# Convert to integers (only if the string can be parsed as integer)\n",
        "int_list = []\n",
        "for item in str_list:\n",
        "    try:\n",
        "        int_list.append(int(float(item)))  # float() first to handle '30.5'\n",
        "    except ValueError:\n",
        "        int_list.append(\"Invalid\")\n",
        "\n",
        "# Convert to floats\n",
        "float_list = []\n",
        "for item in str_list:\n",
        "    try:\n",
        "        float_list.append(float(item))\n",
        "    except ValueError:\n",
        "        float_list.append(\"Invalid\")\n",
        "\n",
        "# Output results\n",
        "print(\"Original List (strings):\", str_list)\n",
        "print(\"Converted to Integers   :\", int_list)\n",
        "print(\"Converted to Floats     :\", float_list)\n"
      ],
      "metadata": {
        "colab": {
          "base_uri": "https://localhost:8080/"
        },
        "id": "3RpRuDCmXzYn",
        "outputId": "17c0cf1c-24a5-4724-9573-20fc548ac581"
      },
      "execution_count": 16,
      "outputs": [
        {
          "output_type": "stream",
          "name": "stdout",
          "text": [
            "Original List (strings): ['10', '20', '30.5', '40', '50.75']\n",
            "Converted to Integers   : [10, 20, 30, 40, 50]\n",
            "Converted to Floats     : [10.0, 20.0, 30.5, 40.0, 50.75]\n"
          ]
        }
      ]
    },
    {
      "cell_type": "markdown",
      "source": [
        "Notes:\n",
        "- We use float(item) before int(...) to safely convert decimal strings like '30.5' by truncating.\n",
        "\n",
        "- Exception handling (try-except) is used to prevent the program from crashing on invalid values"
      ],
      "metadata": {
        "id": "3gdBuu0McHLJ"
      }
    },
    {
      "cell_type": "markdown",
      "source": [
        "11. Write a program that checks if a number is positive, negative, or zero."
      ],
      "metadata": {
        "id": "N-365zXvYfSV"
      }
    },
    {
      "cell_type": "code",
      "source": [
        "# Get input from the user and convert to float\n",
        "num = float(input(\"Enter a number: \"))\n",
        "\n",
        "# Check if the number is positive, negative, or zero\n",
        "if num > 0:\n",
        "    print(\"The number is positive.\")\n",
        "elif num < 0:\n",
        "    print(\"The number is negative.\")\n",
        "else:\n",
        "    print(\"The number is zero.\")\n"
      ],
      "metadata": {
        "colab": {
          "base_uri": "https://localhost:8080/"
        },
        "id": "e6kSOJWQYp9B",
        "outputId": "0289aeba-ba37-4221-9310-d29b0cbb50ff"
      },
      "execution_count": 17,
      "outputs": [
        {
          "output_type": "stream",
          "name": "stdout",
          "text": [
            "Enter a number: -5\n",
            "The number is negative.\n"
          ]
        }
      ]
    },
    {
      "cell_type": "markdown",
      "source": [
        "Notes:\n",
        "\n",
        "- We use float() to handle both integers and decimal inputs.\n",
        "\n",
        "- You can change it to int() if you want to restrict input to whole numbers."
      ],
      "metadata": {
        "id": "00UEd9WMb95b"
      }
    },
    {
      "cell_type": "markdown",
      "source": [
        "12. Write a for loop to print numbers from 1 to 10"
      ],
      "metadata": {
        "id": "-sSTBm2FY3Nq"
      }
    },
    {
      "cell_type": "code",
      "source": [
        "for i in range(1, 11):\n",
        "    print(i)\n"
      ],
      "metadata": {
        "colab": {
          "base_uri": "https://localhost:8080/"
        },
        "id": "oUMxkzLhZA8N",
        "outputId": "c6b3cc9f-15eb-4ee8-a961-1c4b326f1613"
      },
      "execution_count": 18,
      "outputs": [
        {
          "output_type": "stream",
          "name": "stdout",
          "text": [
            "1\n",
            "2\n",
            "3\n",
            "4\n",
            "5\n",
            "6\n",
            "7\n",
            "8\n",
            "9\n",
            "10\n"
          ]
        }
      ]
    },
    {
      "cell_type": "markdown",
      "source": [
        " Explanation:\n",
        "\n",
        "- range(1, 11) generates numbers starting from 1 up to (but not including) 11.\n",
        "\n",
        "- print(i) prints each number on a new line."
      ],
      "metadata": {
        "id": "QgGwbx5CbxDS"
      }
    },
    {
      "cell_type": "markdown",
      "source": [
        "13. Write a Python program to find the sum of all even numbers between 1 and 50."
      ],
      "metadata": {
        "id": "wktsHghYZKqg"
      }
    },
    {
      "cell_type": "code",
      "source": [
        "# Initialize sum\n",
        "even_sum = 0\n",
        "\n",
        "# Loop through numbers from 1 to 50\n",
        "for i in range(1, 51):\n",
        "    if i % 2 == 0:  # Check if the number is even\n",
        "        even_sum += i\n",
        "\n",
        "# Display the result\n",
        "print(\"Sum of even numbers from 1 to 50 is:\", even_sum)\n"
      ],
      "metadata": {
        "colab": {
          "base_uri": "https://localhost:8080/"
        },
        "id": "OxHonX_dZQro",
        "outputId": "fa270fb5-78fb-4529-be93-6fd2f793d4dc"
      },
      "execution_count": 19,
      "outputs": [
        {
          "output_type": "stream",
          "name": "stdout",
          "text": [
            "Sum of even numbers from 1 to 50 is: 650\n"
          ]
        }
      ]
    },
    {
      "cell_type": "markdown",
      "source": [
        "Explanation:\n",
        "\n",
        "- The loop checks each number from 1 to 50.\n",
        "\n",
        "- It adds the number to even_sum if it's divisible by 2 (i.e., even)."
      ],
      "metadata": {
        "id": "EStndkDybQep"
      }
    },
    {
      "cell_type": "markdown",
      "source": [
        "14. Write a program to reverse a string using a while loop."
      ],
      "metadata": {
        "id": "KneWnCgFZpDN"
      }
    },
    {
      "cell_type": "code",
      "source": [
        "# Get input from user\n",
        "input_string = input(\"Enter a string: \")\n",
        "\n",
        "# Initialize variables\n",
        "reversed_string = \"\"\n",
        "index = len(input_string) - 1\n",
        "\n",
        "# Loop through the string in reverse order\n",
        "while index >= 0:\n",
        "    reversed_string += input_string[index]\n",
        "    index -= 1\n",
        "\n",
        "# Display the reversed string\n",
        "print(\"Reversed string:\", reversed_string)\n"
      ],
      "metadata": {
        "colab": {
          "base_uri": "https://localhost:8080/"
        },
        "id": "bCwC3JuDZuJr",
        "outputId": "980a200f-1471-4e8b-ee24-1cd0b82fdc1f"
      },
      "execution_count": 20,
      "outputs": [
        {
          "output_type": "stream",
          "name": "stdout",
          "text": [
            "Enter a string: Hello\n",
            "Reversed string: olleH\n"
          ]
        }
      ]
    },
    {
      "cell_type": "markdown",
      "source": [
        " Explanation:\n",
        "\n",
        "- We start at the last index of the string (index = len(input_string) - 1) and keep adding characters to the reversed_string.\n",
        "\n",
        "- The while loop continues until index becomes negative, which means we've processed all characters."
      ],
      "metadata": {
        "id": "w0ecR2Wva-vV"
      }
    },
    {
      "cell_type": "markdown",
      "source": [
        "15. Write a Python program to calculate the factorial of a number provided by the user using a while loop."
      ],
      "metadata": {
        "id": "q6R5IJcvaJ2Y"
      }
    },
    {
      "cell_type": "code",
      "source": [
        "# Get input from the user\n",
        "num = int(input(\"Enter a number to calculate its factorial: \"))\n",
        "\n",
        "# Initialize factorial result\n",
        "factorial = 1\n",
        "\n",
        "# Handle case for 0 or negative numbers\n",
        "if num < 0:\n",
        "    print(\"Factorial does not exist for negative numbers.\")\n",
        "else:\n",
        "    # Calculate factorial using a while loop\n",
        "    while num > 0:\n",
        "        factorial *= num\n",
        "        num -= 1\n",
        "\n",
        "    # Display the result\n",
        "    print(\"Factorial is:\", factorial)\n"
      ],
      "metadata": {
        "colab": {
          "base_uri": "https://localhost:8080/"
        },
        "id": "7drXj9c0aTJ7",
        "outputId": "7f92bc22-035c-462b-cd5b-b0488c63746a"
      },
      "execution_count": 21,
      "outputs": [
        {
          "output_type": "stream",
          "name": "stdout",
          "text": [
            "Enter a number to calculate its factorial:  5\n",
            "Factorial is: 120\n"
          ]
        }
      ]
    },
    {
      "cell_type": "markdown",
      "source": [
        " Explanation:\n",
        "\n",
        "- We use a while loop to multiply the factorial by each decreasing number, starting from the input number.\n",
        "\n",
        "- The loop continues until num becomes 0, at which point the factorial is fully calculated."
      ],
      "metadata": {
        "id": "1BM0e63zay1z"
      }
    }
  ]
}